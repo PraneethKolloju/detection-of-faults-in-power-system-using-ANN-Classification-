{
  "nbformat": 4,
  "nbformat_minor": 0,
  "metadata": {
    "colab": {
      "name": "detection of faults in power system using ANN.ipynb",
      "provenance": []
    },
    "kernelspec": {
      "name": "python3",
      "display_name": "Python 3"
    },
    "language_info": {
      "name": "python"
    }
  },
  "cells": [
    {
      "cell_type": "code",
      "metadata": {
        "id": "li2u9bzS0mmH"
      },
      "source": [
        "import pandas as pd\n",
        "import numpy as np\n",
        "import tensorflow as tf\n"
      ],
      "execution_count": 157,
      "outputs": []
    },
    {
      "cell_type": "code",
      "metadata": {
        "id": "omwXKXlv1FNs"
      },
      "source": [
        "df2=pd.read_csv('detect_dataset.csv')\n"
      ],
      "execution_count": 158,
      "outputs": []
    },
    {
      "cell_type": "code",
      "metadata": {
        "id": "HfOKBfi81TXm"
      },
      "source": [
        "x=df2.iloc[:,1:7].values\n",
        "y=df2.iloc[:,0].values"
      ],
      "execution_count": 159,
      "outputs": []
    },
    {
      "cell_type": "code",
      "metadata": {
        "colab": {
          "base_uri": "https://localhost:8080/"
        },
        "id": "THoCMaWt76l5",
        "outputId": "057eb452-d8a4-44f4-f202-b0d9e000594d"
      },
      "source": [
        "x[0]"
      ],
      "execution_count": 160,
      "outputs": [
        {
          "output_type": "execute_result",
          "data": {
            "text/plain": [
              "array([-1.70472196e+02,  9.21961350e+00,  1.61252583e+02,  5.44900040e-02,\n",
              "       -6.59920931e-01,  6.05430928e-01])"
            ]
          },
          "metadata": {},
          "execution_count": 160
        }
      ]
    },
    {
      "cell_type": "code",
      "metadata": {
        "colab": {
          "base_uri": "https://localhost:8080/"
        },
        "id": "E7ApAWnhDqIu",
        "outputId": "cb0c4d40-22ad-44d1-a152-b195574c65e0"
      },
      "source": [
        "from sklearn.model_selection import train_test_split\n",
        "xtrain, xtest, ytrain, ytest=train_test_split(x,y,test_size=.2,random_state=0)\n",
        "xtrain"
      ],
      "execution_count": 161,
      "outputs": [
        {
          "output_type": "execute_result",
          "data": {
            "text/plain": [
              "array([[ 1.55020034e+02, -8.31068761e+02,  6.76046464e+02,\n",
              "        -3.35177620e-02, -5.66553800e-03,  3.91833000e-02],\n",
              "       [ 5.79455017e+01, -7.21415453e+00, -4.87913724e+01,\n",
              "         1.64504505e-01,  4.30608427e-01, -5.95112932e-01],\n",
              "       [-7.21360596e+01,  6.25513165e+01,  6.23285087e+00,\n",
              "        -9.71541030e-02, -4.57479539e-01,  5.54633642e-01],\n",
              "       ...,\n",
              "       [ 1.61716572e+01,  7.47688582e+01, -9.41911487e+01,\n",
              "        -5.06501418e-01,  5.74454786e-01, -6.79533680e-02],\n",
              "       [-6.59598120e+01,  3.91559313e+01,  2.35855152e+01,\n",
              "         1.20924870e-01, -5.58918725e-01,  4.37993855e-01],\n",
              "       [ 8.66389530e+02, -5.46708868e+02,  6.45281515e+00,\n",
              "         1.50904790e-02, -2.63440956e-01,  2.48350477e-01]])"
            ]
          },
          "metadata": {},
          "execution_count": 161
        }
      ]
    },
    {
      "cell_type": "code",
      "metadata": {
        "id": "_o7-4CNVC5l-"
      },
      "source": [
        "from sklearn.preprocessing import StandardScaler\n",
        "scx=StandardScaler()\n",
        "xtrain=scx.fit_transform(xtrain)\n",
        "xtest=scx.fit_transform(xtest)"
      ],
      "execution_count": 162,
      "outputs": []
    },
    {
      "cell_type": "code",
      "metadata": {
        "id": "ziSZPQRnDoSu"
      },
      "source": [
        "ann=tf.keras.Sequential()"
      ],
      "execution_count": 163,
      "outputs": []
    },
    {
      "cell_type": "code",
      "metadata": {
        "id": "zYgcU_UdEVS2"
      },
      "source": [
        "ann.add(tf.keras.layers.Dense(units=6,activation='relu'))"
      ],
      "execution_count": 164,
      "outputs": []
    },
    {
      "cell_type": "code",
      "metadata": {
        "id": "6nmIgR3XEg-_"
      },
      "source": [
        "ann.add(tf.keras.layers.Dense(units=6,activation='relu'))"
      ],
      "execution_count": 165,
      "outputs": []
    },
    {
      "cell_type": "code",
      "metadata": {
        "id": "Ywu-WH_uEp8d"
      },
      "source": [
        "ann.add(tf.keras.layers.Dense(units=1,activation='sigmoid'))"
      ],
      "execution_count": 166,
      "outputs": []
    },
    {
      "cell_type": "code",
      "metadata": {
        "id": "oTblSCDTEyDW"
      },
      "source": [
        "ann.compile(optimizer='adam',metrics='accuracy',loss='binary_crossentropy')"
      ],
      "execution_count": 167,
      "outputs": []
    },
    {
      "cell_type": "code",
      "metadata": {
        "colab": {
          "base_uri": "https://localhost:8080/"
        },
        "id": "DNU95vFfE_Id",
        "outputId": "2f6145ed-866a-4ccb-fc7b-50897fefce6f"
      },
      "source": [
        "ann.fit(xtrain,ytrain,epochs=100,batch_size=32)"
      ],
      "execution_count": 168,
      "outputs": [
        {
          "output_type": "stream",
          "text": [
            "Epoch 1/100\n",
            "300/300 [==============================] - 1s 1ms/step - loss: 0.5068 - accuracy: 0.8189\n",
            "Epoch 2/100\n",
            "300/300 [==============================] - 0s 1ms/step - loss: 0.2674 - accuracy: 0.8983\n",
            "Epoch 3/100\n",
            "300/300 [==============================] - 0s 1ms/step - loss: 0.1732 - accuracy: 0.9178\n",
            "Epoch 4/100\n",
            "300/300 [==============================] - 0s 1ms/step - loss: 0.1264 - accuracy: 0.9636\n",
            "Epoch 5/100\n",
            "300/300 [==============================] - 0s 1ms/step - loss: 0.0965 - accuracy: 0.9773\n",
            "Epoch 6/100\n",
            "300/300 [==============================] - 0s 1ms/step - loss: 0.0657 - accuracy: 0.9831\n",
            "Epoch 7/100\n",
            "300/300 [==============================] - 0s 1ms/step - loss: 0.0521 - accuracy: 0.9852\n",
            "Epoch 8/100\n",
            "300/300 [==============================] - 0s 1ms/step - loss: 0.0464 - accuracy: 0.9860\n",
            "Epoch 9/100\n",
            "300/300 [==============================] - 0s 1ms/step - loss: 0.0436 - accuracy: 0.9873\n",
            "Epoch 10/100\n",
            "300/300 [==============================] - 0s 1ms/step - loss: 0.0411 - accuracy: 0.9876\n",
            "Epoch 11/100\n",
            "300/300 [==============================] - 0s 1ms/step - loss: 0.0394 - accuracy: 0.9880\n",
            "Epoch 12/100\n",
            "300/300 [==============================] - 0s 1ms/step - loss: 0.0379 - accuracy: 0.9885\n",
            "Epoch 13/100\n",
            "300/300 [==============================] - 0s 1ms/step - loss: 0.0365 - accuracy: 0.9887\n",
            "Epoch 14/100\n",
            "300/300 [==============================] - 0s 1ms/step - loss: 0.0355 - accuracy: 0.9887\n",
            "Epoch 15/100\n",
            "300/300 [==============================] - 0s 1ms/step - loss: 0.0347 - accuracy: 0.9891\n",
            "Epoch 16/100\n",
            "300/300 [==============================] - 0s 1ms/step - loss: 0.0336 - accuracy: 0.9895\n",
            "Epoch 17/100\n",
            "300/300 [==============================] - 0s 1ms/step - loss: 0.0332 - accuracy: 0.9895\n",
            "Epoch 18/100\n",
            "300/300 [==============================] - 0s 1ms/step - loss: 0.0326 - accuracy: 0.9896\n",
            "Epoch 19/100\n",
            "300/300 [==============================] - 0s 1ms/step - loss: 0.0328 - accuracy: 0.9896\n",
            "Epoch 20/100\n",
            "300/300 [==============================] - 0s 1ms/step - loss: 0.0323 - accuracy: 0.9899\n",
            "Epoch 21/100\n",
            "300/300 [==============================] - 0s 1ms/step - loss: 0.0315 - accuracy: 0.9903\n",
            "Epoch 22/100\n",
            "300/300 [==============================] - 0s 1ms/step - loss: 0.0312 - accuracy: 0.9903\n",
            "Epoch 23/100\n",
            "300/300 [==============================] - 0s 1ms/step - loss: 0.0309 - accuracy: 0.9906\n",
            "Epoch 24/100\n",
            "300/300 [==============================] - 0s 1ms/step - loss: 0.0305 - accuracy: 0.9901\n",
            "Epoch 25/100\n",
            "300/300 [==============================] - 0s 1ms/step - loss: 0.0300 - accuracy: 0.9904\n",
            "Epoch 26/100\n",
            "300/300 [==============================] - 0s 1ms/step - loss: 0.0299 - accuracy: 0.9906\n",
            "Epoch 27/100\n",
            "300/300 [==============================] - 0s 1ms/step - loss: 0.0295 - accuracy: 0.9904\n",
            "Epoch 28/100\n",
            "300/300 [==============================] - 0s 1ms/step - loss: 0.0293 - accuracy: 0.9907\n",
            "Epoch 29/100\n",
            "300/300 [==============================] - 0s 1ms/step - loss: 0.0291 - accuracy: 0.9909\n",
            "Epoch 30/100\n",
            "300/300 [==============================] - 0s 1ms/step - loss: 0.0284 - accuracy: 0.9910\n",
            "Epoch 31/100\n",
            "300/300 [==============================] - 0s 1ms/step - loss: 0.0284 - accuracy: 0.9906\n",
            "Epoch 32/100\n",
            "300/300 [==============================] - 0s 1ms/step - loss: 0.0280 - accuracy: 0.9912\n",
            "Epoch 33/100\n",
            "300/300 [==============================] - 0s 1ms/step - loss: 0.0273 - accuracy: 0.9910\n",
            "Epoch 34/100\n",
            "300/300 [==============================] - 0s 1ms/step - loss: 0.0273 - accuracy: 0.9914\n",
            "Epoch 35/100\n",
            "300/300 [==============================] - 0s 1ms/step - loss: 0.0268 - accuracy: 0.9915\n",
            "Epoch 36/100\n",
            "300/300 [==============================] - 0s 1ms/step - loss: 0.0263 - accuracy: 0.9914\n",
            "Epoch 37/100\n",
            "300/300 [==============================] - 0s 1ms/step - loss: 0.0265 - accuracy: 0.9917\n",
            "Epoch 38/100\n",
            "300/300 [==============================] - 0s 1ms/step - loss: 0.0262 - accuracy: 0.9918\n",
            "Epoch 39/100\n",
            "300/300 [==============================] - 0s 1ms/step - loss: 0.0254 - accuracy: 0.9918\n",
            "Epoch 40/100\n",
            "300/300 [==============================] - 0s 1ms/step - loss: 0.0254 - accuracy: 0.9918\n",
            "Epoch 41/100\n",
            "300/300 [==============================] - 0s 1ms/step - loss: 0.0247 - accuracy: 0.9921\n",
            "Epoch 42/100\n",
            "300/300 [==============================] - 0s 1ms/step - loss: 0.0248 - accuracy: 0.9921\n",
            "Epoch 43/100\n",
            "300/300 [==============================] - 0s 1ms/step - loss: 0.0240 - accuracy: 0.9919\n",
            "Epoch 44/100\n",
            "300/300 [==============================] - 0s 1ms/step - loss: 0.0234 - accuracy: 0.9928\n",
            "Epoch 45/100\n",
            "300/300 [==============================] - 0s 1ms/step - loss: 0.0238 - accuracy: 0.9923\n",
            "Epoch 46/100\n",
            "300/300 [==============================] - 0s 1ms/step - loss: 0.0232 - accuracy: 0.9928\n",
            "Epoch 47/100\n",
            "300/300 [==============================] - 0s 1ms/step - loss: 0.0231 - accuracy: 0.9929\n",
            "Epoch 48/100\n",
            "300/300 [==============================] - 0s 1ms/step - loss: 0.0229 - accuracy: 0.9928\n",
            "Epoch 49/100\n",
            "300/300 [==============================] - 0s 1ms/step - loss: 0.0228 - accuracy: 0.9926\n",
            "Epoch 50/100\n",
            "300/300 [==============================] - 0s 1ms/step - loss: 0.0224 - accuracy: 0.9930\n",
            "Epoch 51/100\n",
            "300/300 [==============================] - 0s 1ms/step - loss: 0.0220 - accuracy: 0.9930\n",
            "Epoch 52/100\n",
            "300/300 [==============================] - 0s 1ms/step - loss: 0.0223 - accuracy: 0.9928\n",
            "Epoch 53/100\n",
            "300/300 [==============================] - 0s 1ms/step - loss: 0.0215 - accuracy: 0.9932\n",
            "Epoch 54/100\n",
            "300/300 [==============================] - 0s 1ms/step - loss: 0.0216 - accuracy: 0.9930\n",
            "Epoch 55/100\n",
            "300/300 [==============================] - 0s 1ms/step - loss: 0.0214 - accuracy: 0.9932\n",
            "Epoch 56/100\n",
            "300/300 [==============================] - 0s 1ms/step - loss: 0.0206 - accuracy: 0.9929\n",
            "Epoch 57/100\n",
            "300/300 [==============================] - 0s 1ms/step - loss: 0.0212 - accuracy: 0.9934\n",
            "Epoch 58/100\n",
            "300/300 [==============================] - 0s 1ms/step - loss: 0.0208 - accuracy: 0.9935\n",
            "Epoch 59/100\n",
            "300/300 [==============================] - 0s 1ms/step - loss: 0.0209 - accuracy: 0.9931\n",
            "Epoch 60/100\n",
            "300/300 [==============================] - 0s 1ms/step - loss: 0.0203 - accuracy: 0.9934\n",
            "Epoch 61/100\n",
            "300/300 [==============================] - 0s 1ms/step - loss: 0.0205 - accuracy: 0.9941\n",
            "Epoch 62/100\n",
            "300/300 [==============================] - 0s 1ms/step - loss: 0.0200 - accuracy: 0.9940\n",
            "Epoch 63/100\n",
            "300/300 [==============================] - 0s 1ms/step - loss: 0.0200 - accuracy: 0.9933\n",
            "Epoch 64/100\n",
            "300/300 [==============================] - 0s 1ms/step - loss: 0.0203 - accuracy: 0.9933\n",
            "Epoch 65/100\n",
            "300/300 [==============================] - 0s 1ms/step - loss: 0.0196 - accuracy: 0.9936\n",
            "Epoch 66/100\n",
            "300/300 [==============================] - 0s 1ms/step - loss: 0.0200 - accuracy: 0.9936\n",
            "Epoch 67/100\n",
            "300/300 [==============================] - 0s 1ms/step - loss: 0.0194 - accuracy: 0.9933\n",
            "Epoch 68/100\n",
            "300/300 [==============================] - 0s 1ms/step - loss: 0.0189 - accuracy: 0.9942\n",
            "Epoch 69/100\n",
            "300/300 [==============================] - 0s 1ms/step - loss: 0.0194 - accuracy: 0.9934\n",
            "Epoch 70/100\n",
            "300/300 [==============================] - 0s 1ms/step - loss: 0.0187 - accuracy: 0.9937\n",
            "Epoch 71/100\n",
            "300/300 [==============================] - 0s 1ms/step - loss: 0.0187 - accuracy: 0.9942\n",
            "Epoch 72/100\n",
            "300/300 [==============================] - 0s 1ms/step - loss: 0.0184 - accuracy: 0.9937\n",
            "Epoch 73/100\n",
            "300/300 [==============================] - 0s 1ms/step - loss: 0.0186 - accuracy: 0.9941\n",
            "Epoch 74/100\n",
            "300/300 [==============================] - 0s 1ms/step - loss: 0.0181 - accuracy: 0.9940\n",
            "Epoch 75/100\n",
            "300/300 [==============================] - 0s 1ms/step - loss: 0.0181 - accuracy: 0.9941\n",
            "Epoch 76/100\n",
            "300/300 [==============================] - 0s 1ms/step - loss: 0.0180 - accuracy: 0.9940\n",
            "Epoch 77/100\n",
            "300/300 [==============================] - 0s 1ms/step - loss: 0.0175 - accuracy: 0.9941\n",
            "Epoch 78/100\n",
            "300/300 [==============================] - 0s 1ms/step - loss: 0.0178 - accuracy: 0.9942\n",
            "Epoch 79/100\n",
            "300/300 [==============================] - 0s 1ms/step - loss: 0.0175 - accuracy: 0.9945\n",
            "Epoch 80/100\n",
            "300/300 [==============================] - 0s 1ms/step - loss: 0.0174 - accuracy: 0.9943\n",
            "Epoch 81/100\n",
            "300/300 [==============================] - 0s 1ms/step - loss: 0.0174 - accuracy: 0.9942\n",
            "Epoch 82/100\n",
            "300/300 [==============================] - 0s 1ms/step - loss: 0.0170 - accuracy: 0.9944\n",
            "Epoch 83/100\n",
            "300/300 [==============================] - 0s 1ms/step - loss: 0.0167 - accuracy: 0.9946\n",
            "Epoch 84/100\n",
            "300/300 [==============================] - 0s 1ms/step - loss: 0.0171 - accuracy: 0.9944\n",
            "Epoch 85/100\n",
            "300/300 [==============================] - 0s 1ms/step - loss: 0.0164 - accuracy: 0.9949\n",
            "Epoch 86/100\n",
            "300/300 [==============================] - 0s 1ms/step - loss: 0.0169 - accuracy: 0.9940\n",
            "Epoch 87/100\n",
            "300/300 [==============================] - 0s 1ms/step - loss: 0.0167 - accuracy: 0.9942\n",
            "Epoch 88/100\n",
            "300/300 [==============================] - 0s 1ms/step - loss: 0.0163 - accuracy: 0.9948\n",
            "Epoch 89/100\n",
            "300/300 [==============================] - 0s 1ms/step - loss: 0.0162 - accuracy: 0.9944\n",
            "Epoch 90/100\n",
            "300/300 [==============================] - 0s 1ms/step - loss: 0.0160 - accuracy: 0.9948\n",
            "Epoch 91/100\n",
            "300/300 [==============================] - 0s 1ms/step - loss: 0.0160 - accuracy: 0.9944\n",
            "Epoch 92/100\n",
            "300/300 [==============================] - 0s 1ms/step - loss: 0.0160 - accuracy: 0.9944\n",
            "Epoch 93/100\n",
            "300/300 [==============================] - 0s 1ms/step - loss: 0.0159 - accuracy: 0.9950\n",
            "Epoch 94/100\n",
            "300/300 [==============================] - 0s 2ms/step - loss: 0.0154 - accuracy: 0.9953\n",
            "Epoch 95/100\n",
            "300/300 [==============================] - 0s 1ms/step - loss: 0.0157 - accuracy: 0.9949\n",
            "Epoch 96/100\n",
            "300/300 [==============================] - 0s 1ms/step - loss: 0.0158 - accuracy: 0.9951\n",
            "Epoch 97/100\n",
            "300/300 [==============================] - 0s 1ms/step - loss: 0.0153 - accuracy: 0.9951\n",
            "Epoch 98/100\n",
            "300/300 [==============================] - 0s 1ms/step - loss: 0.0153 - accuracy: 0.9947\n",
            "Epoch 99/100\n",
            "300/300 [==============================] - 0s 1ms/step - loss: 0.0155 - accuracy: 0.9945\n",
            "Epoch 100/100\n",
            "300/300 [==============================] - 0s 1ms/step - loss: 0.0149 - accuracy: 0.9952\n"
          ],
          "name": "stdout"
        },
        {
          "output_type": "execute_result",
          "data": {
            "text/plain": [
              "<keras.callbacks.History at 0x7f18bddbad50>"
            ]
          },
          "metadata": {},
          "execution_count": 168
        }
      ]
    },
    {
      "cell_type": "code",
      "metadata": {
        "id": "vsKlOijOFB7a"
      },
      "source": [
        "pred=ann.predict(scx.transform(xtest))"
      ],
      "execution_count": 169,
      "outputs": []
    },
    {
      "cell_type": "code",
      "metadata": {
        "id": "DI8skOfrF1ga"
      },
      "source": [
        "pred=pred.reshape(1,len(pred))"
      ],
      "execution_count": 170,
      "outputs": []
    },
    {
      "cell_type": "code",
      "metadata": {
        "id": "OMDgig7KHD4u"
      },
      "source": [
        "ytest=ytest.astype('float32')"
      ],
      "execution_count": 171,
      "outputs": []
    },
    {
      "cell_type": "code",
      "metadata": {
        "colab": {
          "base_uri": "https://localhost:8080/"
        },
        "id": "Zp9VfipKLUU_",
        "outputId": "f75a4672-eb89-45d7-f53f-56fecc4b8c10"
      },
      "source": [
        "pred"
      ],
      "execution_count": 183,
      "outputs": [
        {
          "output_type": "execute_result",
          "data": {
            "text/plain": [
              "array([[ True, False,  True, ...,  True,  True, False]])"
            ]
          },
          "metadata": {},
          "execution_count": 183
        }
      ]
    }
  ]
}